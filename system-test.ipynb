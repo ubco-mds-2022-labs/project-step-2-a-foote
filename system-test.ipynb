{
 "cells": [
  {
   "cell_type": "markdown",
   "id": "9b9935dd-efba-4464-98c9-4ff920a3390e",
   "metadata": {},
   "source": [
    "# Test File Setup"
   ]
  },
  {
   "cell_type": "code",
   "execution_count": 1,
   "id": "c5e33c4c-0007-4fee-852c-0565113d60da",
   "metadata": {},
   "outputs": [],
   "source": [
    "import MDSTimeManager.system.TimeManager as tm\n",
    "import MDSTimeManager.system.deliverableviewer as dv\n",
    "import MDSTimeManager.setup.course as c\n",
    "import MDSTimeManager.system.main as m\n",
    "\n",
    "Data533 = c.Course(\"Object Oriented Programming\",\"Khalad Hasan\",\"3\",1)\n",
    "Data533Quiz = c.Quiz(\"Data533: Quiz\", \"12/20\", \"Incomplete\", \"Lecture 1 to Lecture 8\", \"MCQ, Short Answers on paper\")\n",
    "Data533Lab1 = c.AssignLab(\"Data533: Lab 1\", \"12/05\", \"Complete\", \"\", \"\", subloc=\"git classroom repo, link in Canvas\")\n",
    "Data533Project = c.Project(\"Data 533: Project- Time Manager\",\"12/19\",milestones=\"no milestones\",repo=\"MyRepo.git\")\n",
    "# How to assign deliverables to a course object\n",
    "Data533.deliverables = Data533Quiz\n",
    "Data533.deliverables = Data533Lab1\n",
    "Data533.deliverables = Data533Project\n",
    "\n",
    "courselist = [Data533]"
   ]
  },
  {
   "cell_type": "markdown",
   "id": "a6f3c73a-44f2-47cb-8f7f-9aa669fcc86a",
   "metadata": {},
   "source": [
    "## deliverableviewer.py\n",
    "\n",
    "### next7days()\n",
    "This function simply returns a list of the day (dd) portion of the next 7 days, including the current day as seen in the code and output below."
   ]
  },
  {
   "cell_type": "code",
   "execution_count": 2,
   "id": "00f7c1dc-375b-4f79-b33e-c3b8336211c4",
   "metadata": {},
   "outputs": [
    {
     "data": {
      "text/plain": [
       "['14', '15', '16', '17', '18', '19', '20']"
      ]
     },
     "execution_count": 2,
     "metadata": {},
     "output_type": "execute_result"
    }
   ],
   "source": [
    "dv.next7dates()"
   ]
  },
  {
   "cell_type": "markdown",
   "id": "f43bd436-0114-4a08-af2a-e1d21cbc4ae7",
   "metadata": {},
   "source": [
    "### DeliverableSearch()\n",
    "This function takes in a list of course objects and returns the associated list of deliverable objects for each course, as seen in the code and output below. "
   ]
  },
  {
   "cell_type": "code",
   "execution_count": 3,
   "id": "0db4ea22-22b2-430b-bf8d-304c3f356001",
   "metadata": {},
   "outputs": [
    {
     "data": {
      "text/plain": [
       "[<MDSTimeManager.setup.course.Quiz at 0x1a59142f3d0>,\n",
       " <MDSTimeManager.setup.course.Project at 0x1a59142fa00>]"
      ]
     },
     "execution_count": 3,
     "metadata": {},
     "output_type": "execute_result"
    }
   ],
   "source": [
    "delivlist = dv.DeliverableSearch(courselist)\n",
    "delivlist"
   ]
  },
  {
   "cell_type": "markdown",
   "id": "2a4622c4-aadb-4afe-b225-8e91a99ebb94",
   "metadata": {},
   "source": [
    "### DeliverableViewer()\n",
    "This function takes the output from the DeliverableSearch function and outputs all deliverables (Assignment, Lab, Quiz, Project) that are due in the next 7 days. As per the course set up, at the top of this page, there are only 2 (out of 3 total) deliverables that are due in the next 7. Thus the output only shows the quiz and project with their associated due dates."
   ]
  },
  {
   "cell_type": "code",
   "execution_count": 4,
   "id": "2655a0c1-bf64-4d9b-a970-5604d08a5c82",
   "metadata": {},
   "outputs": [
    {
     "name": "stdout",
     "output_type": "stream",
     "text": [
      "Deliverables due in the next 7 days are:\n",
      "\n",
      "Data533: Quiz                   due on: 12/20 (MM/DD)\n",
      "Data 533: Project- Time Manager due on: 12/19 (MM/DD)\n",
      "\n",
      "\n"
     ]
    }
   ],
   "source": [
    "dv.DeliverableViewer(delivlist)"
   ]
  },
  {
   "cell_type": "markdown",
   "id": "0ed4ebce-f1ba-4cee-bc82-753542b8e65f",
   "metadata": {},
   "source": [
    "### DeliverableAll()\n",
    "This function outputs all deliverables stored associated with each existing course object. In this simple example, only 1 course was setup with 3 deliverables and thus there is an output of all 3 deliverables and the associated due dates."
   ]
  },
  {
   "cell_type": "code",
   "execution_count": 5,
   "id": "0d9d0765-ba9f-47aa-aa81-b6cc49453f2a",
   "metadata": {},
   "outputs": [
    {
     "name": "stdout",
     "output_type": "stream",
     "text": [
      "Data533: Quiz,12/20\n",
      "Data533: Lab 1,12/05\n",
      "Data 533: Project- Time Manager,12/19\n"
     ]
    }
   ],
   "source": [
    "dv.DeliverableAll(courselist)"
   ]
  },
  {
   "cell_type": "markdown",
   "id": "476a9247-d406-4bfe-a863-e74c89cdc7ed",
   "metadata": {},
   "source": [
    "## TimeManager.py\n",
    "\n",
    "### userinput()\n",
    "This function passes in the courses list and prompts the user for ranking of each course in the list and their available study time. It will then both output and return the number of study hours left less the time needed to complete the upcoming deliverables. In this example, I entered 1 in for my rank, 9 hours for my study time availability, 4 hours needed to complete the Data 533 project, and thus the remaining study time left is 5 hours. "
   ]
  },
  {
   "cell_type": "code",
   "execution_count": 10,
   "id": "c01e14d7-6e81-440b-b59b-5f3690cff309",
   "metadata": {},
   "outputs": [
    {
     "name": "stdout",
     "output_type": "stream",
     "text": [
      "\n",
      "Please choose a rank for the following courses out of (1,2,3) with 3 being most difficult.\n",
      "For Object Oriented Programming: \n"
     ]
    },
    {
     "name": "stdin",
     "output_type": "stream",
     "text": [
      " 1\n",
      "How much time is available in the next 7 days for studies (in hours)?  9\n"
     ]
    },
    {
     "name": "stdout",
     "output_type": "stream",
     "text": [
      "\n",
      "How much time (in hours) you think you will take for the following:\n",
      "\n",
      "For Data 533: Project- Time Manager due on: 12/19 (MM/DD)\n"
     ]
    },
    {
     "name": "stdin",
     "output_type": "stream",
     "text": [
      " 4\n"
     ]
    },
    {
     "name": "stdout",
     "output_type": "stream",
     "text": [
      "\n",
      "\n",
      "Time left after assignments and labs: 5.00 hours\n",
      "\n"
     ]
    }
   ],
   "source": [
    "availtime = tm.userinput(courselist)"
   ]
  },
  {
   "cell_type": "markdown",
   "id": "cdf16079-82c6-4282-ba8b-dd6f708e9276",
   "metadata": {},
   "source": [
    "### fetchranks() \n",
    "This function returns the rankings of each course, previously inputted by the user. In this example we can see the returned value is 1 as expected as the rank in the initial setup for this course, at the top of this page, wsa 1."
   ]
  },
  {
   "cell_type": "code",
   "execution_count": 11,
   "id": "590d7679-2160-41b3-9834-46279a8333ea",
   "metadata": {},
   "outputs": [
    {
     "data": {
      "text/plain": [
       "1.0"
      ]
     },
     "execution_count": 11,
     "metadata": {},
     "output_type": "execute_result"
    }
   ],
   "source": [
    "tm.fetchranks(courselist)"
   ]
  },
  {
   "cell_type": "markdown",
   "id": "bd3a5867-325d-4f46-87ae-9a69fb8ce6f4",
   "metadata": {},
   "source": [
    "### timemanagercal()\n",
    "This function takes the available time return from the userinput() function along with a list of course objects and outputs the recommended study time for each course in the list. The study time is allocated based on the remaining time (after time for deliverables is accounted for) and the users ranking for each course. For example, as seen below, if we have 5 hours left for study after accounting for the time needed to complete the Data 533 project, the study time recommendation is 5 hours. Note, there is only 1 course setup with a ranking of 1 for this testing which is why all 5 hours is recommended for the one course."
   ]
  },
  {
   "cell_type": "code",
   "execution_count": 12,
   "id": "982eec5b-e3c3-47d7-94e8-3a0ca7848cb2",
   "metadata": {},
   "outputs": [
    {
     "name": "stdout",
     "output_type": "stream",
     "text": [
      "Recommended study time for Object Oriented Programming is 5.00 hours (300 mins)\n"
     ]
    }
   ],
   "source": [
    "tm.timemanagercal(5,courselist)"
   ]
  },
  {
   "cell_type": "markdown",
   "id": "ffd06881-df20-43d6-b1df-7255e9f30b6f",
   "metadata": {},
   "source": [
    "## main.py\n",
    "### execute()\n",
    "This is the only function in the main module that is used for excuting the package. For demonstration, the following two cases will be shown, 1: the user, student, comes from a computer science background and finds the statistic based courses more challenging. 2: the user, student, has a bachelors degree in statistics and is finding the computer science based courses challenging. When comparing the recommended study times between these two cases, notice although they have a similar amount of study time left after assignments and labs, 11 and 15 hours respectively, case 1 has a lot less time recommended for Data 533, 1.10 hours, than case 2, 7.5 hours.\n",
    "\n",
    "#### case 1 - BSc Computer Science:"
   ]
  },
  {
   "cell_type": "code",
   "execution_count": 13,
   "id": "e026d646-b7df-4425-a8a1-5d522512d028",
   "metadata": {},
   "outputs": [
    {
     "name": "stdout",
     "output_type": "stream",
     "text": [
      "Welcome to the MDSTimeManager! \n",
      "\n",
      "Please note:\n",
      "Presently this tool is strictly for use by MDS Okanagan students in Block 3 of 2022. \n",
      "Future versions of this package will expand for use in all blocks for both MDS Vancouver and Okanagan students.\n",
      "\n",
      "\n",
      "Enter one of the following options:\n",
      "1    : Use the deliverableviewer and see upcoming or all due dates\n",
      "2    : Use the timemanagercalc and get study time recommendations\n",
      "x    : Quit the session\n"
     ]
    },
    {
     "name": "stdin",
     "output_type": "stream",
     "text": [
      " 1\n"
     ]
    },
    {
     "name": "stdout",
     "output_type": "stream",
     "text": [
      "\n",
      "\n",
      "\n",
      "\n",
      "Enter one of the following options:\n",
      "a    : View deliverables due in the next 7 days\n",
      "b    : View all deliverables\n"
     ]
    },
    {
     "name": "stdin",
     "output_type": "stream",
     "text": [
      " a\n"
     ]
    },
    {
     "name": "stdout",
     "output_type": "stream",
     "text": [
      "\n",
      "\n",
      "Deliverables due in the next 7 days are:\n",
      "\n",
      "Data533: Quiz                   due on: 12/20 (MM/DD)\n",
      "Data543: Quiz 2                 due on: 12/19 (MM/DD)\n",
      "Data543: Assignment 2           due on: 12/16 (MM/DD)\n",
      "Data571: Assignment 2           due on: 12/19 (MM/DD)\n",
      "Data 581: Quiz 2                due on: 12/20 (MM/DD)\n",
      "Data 581: Lab 3                 due on: 12/15 (MM/DD)\n",
      "\n",
      "\n",
      "\n",
      "\n",
      "Enter one of the following options:\n",
      "1    : Use the deliverableviewer and see upcoming or all due dates\n",
      "2    : Use the timemanagercalc and get study time recommendations\n",
      "x    : Quit the session\n"
     ]
    },
    {
     "name": "stdin",
     "output_type": "stream",
     "text": [
      " 1\n"
     ]
    },
    {
     "name": "stdout",
     "output_type": "stream",
     "text": [
      "\n",
      "\n",
      "\n",
      "\n",
      "Enter one of the following options:\n",
      "a    : View deliverables due in the next 7 days\n",
      "b    : View all deliverables\n"
     ]
    },
    {
     "name": "stdin",
     "output_type": "stream",
     "text": [
      " b\n"
     ]
    },
    {
     "name": "stdout",
     "output_type": "stream",
     "text": [
      "\n",
      "\n",
      "Data533: Quiz,12/20\n",
      "Data533: Lab 1,12/05\n",
      "Data 533: Project- Time Manager,12/22\n",
      "Data543: Quiz 1,12/5\n",
      "Data543: Quiz 2,12/19\n",
      "Data543: Assignment 1,12/12\n",
      "Data543: Assignment 2,12/16\n",
      "Data571: Quiz 1,12/7\n",
      "Data571: Quiz 2,12/21\n",
      "Data571: Assignment 1,12/5\n",
      "Data571: Assignment 2,12/19\n",
      "Data 581: Quiz 1,12/6\n",
      "Data 581: Quiz 2,12/20\n",
      "Data 581: Lab 1,12/1\n",
      "Data 581: Lab 2,12/8\n",
      "Data 581: Lab 3,12/15\n",
      "\n",
      "\n",
      "Enter one of the following options:\n",
      "1    : Use the deliverableviewer and see upcoming or all due dates\n",
      "2    : Use the timemanagercalc and get study time recommendations\n",
      "x    : Quit the session\n"
     ]
    },
    {
     "name": "stdin",
     "output_type": "stream",
     "text": [
      " 2\n"
     ]
    },
    {
     "name": "stdout",
     "output_type": "stream",
     "text": [
      "\n",
      "\n",
      "\n",
      "Please choose a rank for the following courses out of (1,2,3) with 3 being most difficult.\n",
      "For Object Oriented Programming: \n"
     ]
    },
    {
     "name": "stdin",
     "output_type": "stream",
     "text": [
      " 1\n"
     ]
    },
    {
     "name": "stdout",
     "output_type": "stream",
     "text": [
      "For Data Collection: \n"
     ]
    },
    {
     "name": "stdin",
     "output_type": "stream",
     "text": [
      " 3\n"
     ]
    },
    {
     "name": "stdout",
     "output_type": "stream",
     "text": [
      "For Resampling and Regularization: \n"
     ]
    },
    {
     "name": "stdin",
     "output_type": "stream",
     "text": [
      " 3\n"
     ]
    },
    {
     "name": "stdout",
     "output_type": "stream",
     "text": [
      "For Modelling and Simulation: \n"
     ]
    },
    {
     "name": "stdin",
     "output_type": "stream",
     "text": [
      " 3\n",
      "How much time is available in the next 7 days for studies (in hours)?  20\n"
     ]
    },
    {
     "name": "stdout",
     "output_type": "stream",
     "text": [
      "\n",
      "How much time (in hours) you think you will take for the following:\n",
      "\n",
      "For Data543: Assignment 2           due on: 12/16 (MM/DD)\n"
     ]
    },
    {
     "name": "stdin",
     "output_type": "stream",
     "text": [
      " 3\n"
     ]
    },
    {
     "name": "stdout",
     "output_type": "stream",
     "text": [
      "For Data571: Assignment 2           due on: 12/19 (MM/DD)\n"
     ]
    },
    {
     "name": "stdin",
     "output_type": "stream",
     "text": [
      " 3\n"
     ]
    },
    {
     "name": "stdout",
     "output_type": "stream",
     "text": [
      "For Data 581: Lab 3                 due on: 12/15 (MM/DD)\n"
     ]
    },
    {
     "name": "stdin",
     "output_type": "stream",
     "text": [
      " 3\n"
     ]
    },
    {
     "name": "stdout",
     "output_type": "stream",
     "text": [
      "\n",
      "\n",
      "Time left after assignments and labs: 11.00 hours\n",
      "\n",
      "Recommended study time for Object Oriented Programming is 1.10 hours (66 mins)\n",
      "Recommended study time for Data Collection is 3.30 hours (198 mins)\n",
      "Recommended study time for Resampling and Regularization is 3.30 hours (198 mins)\n",
      "Recommended study time for Modelling and Simulation is 3.30 hours (198 mins)\n",
      "\n",
      "\n",
      "Enter one of the following options:\n",
      "1    : Use the deliverableviewer and see upcoming or all due dates\n",
      "2    : Use the timemanagercalc and get study time recommendations\n",
      "x    : Quit the session\n"
     ]
    },
    {
     "name": "stdin",
     "output_type": "stream",
     "text": [
      " x\n"
     ]
    },
    {
     "name": "stdout",
     "output_type": "stream",
     "text": [
      "\n",
      "Your MDSTimeManger session is over. Have a good day :)\n"
     ]
    }
   ],
   "source": [
    "m.execute()"
   ]
  },
  {
   "cell_type": "markdown",
   "id": "03f45ac4-f3a4-4484-a010-177a244339a2",
   "metadata": {},
   "source": [
    "#### Case 2 - BSc Statistics:"
   ]
  },
  {
   "cell_type": "code",
   "execution_count": 15,
   "id": "50e3ad75-6f39-40e9-8fc0-c6c045239525",
   "metadata": {},
   "outputs": [
    {
     "name": "stdout",
     "output_type": "stream",
     "text": [
      "Welcome to the MDSTimeManager! \n",
      "\n",
      "Please note:\n",
      "Presently this tool is strictly for use by MDS Okanagan students in Block 3 of 2022. \n",
      "Future versions of this package will expand for use in all blocks for both MDS Vancouver and Okanagan students.\n",
      "\n",
      "\n",
      "Enter one of the following options:\n",
      "1    : Use the deliverableviewer and see upcoming or all due dates\n",
      "2    : Use the timemanagercalc and get study time recommendations\n",
      "x    : Quit the session\n"
     ]
    },
    {
     "name": "stdin",
     "output_type": "stream",
     "text": [
      " 2\n"
     ]
    },
    {
     "name": "stdout",
     "output_type": "stream",
     "text": [
      "\n",
      "\n",
      "\n",
      "Please choose a rank for the following courses out of (1,2,3) with 3 being most difficult.\n",
      "For Object Oriented Programming: \n"
     ]
    },
    {
     "name": "stdin",
     "output_type": "stream",
     "text": [
      " 3\n"
     ]
    },
    {
     "name": "stdout",
     "output_type": "stream",
     "text": [
      "For Data Collection: \n"
     ]
    },
    {
     "name": "stdin",
     "output_type": "stream",
     "text": [
      " 1\n"
     ]
    },
    {
     "name": "stdout",
     "output_type": "stream",
     "text": [
      "For Resampling and Regularization: \n"
     ]
    },
    {
     "name": "stdin",
     "output_type": "stream",
     "text": [
      " 1\n"
     ]
    },
    {
     "name": "stdout",
     "output_type": "stream",
     "text": [
      "For Modelling and Simulation: \n"
     ]
    },
    {
     "name": "stdin",
     "output_type": "stream",
     "text": [
      " 1\n",
      "How much time is available in the next 7 days for studies (in hours)?  20\n"
     ]
    },
    {
     "name": "stdout",
     "output_type": "stream",
     "text": [
      "\n",
      "How much time (in hours) you think you will take for the following:\n",
      "\n",
      "For Data543: Assignment 2           due on: 12/16 (MM/DD)\n"
     ]
    },
    {
     "name": "stdin",
     "output_type": "stream",
     "text": [
      " 1\n"
     ]
    },
    {
     "name": "stdout",
     "output_type": "stream",
     "text": [
      "For Data571: Assignment 2           due on: 12/19 (MM/DD)\n"
     ]
    },
    {
     "name": "stdin",
     "output_type": "stream",
     "text": [
      " 2\n"
     ]
    },
    {
     "name": "stdout",
     "output_type": "stream",
     "text": [
      "For Data 581: Lab 3                 due on: 12/15 (MM/DD)\n"
     ]
    },
    {
     "name": "stdin",
     "output_type": "stream",
     "text": [
      " 2\n"
     ]
    },
    {
     "name": "stdout",
     "output_type": "stream",
     "text": [
      "\n",
      "\n",
      "Time left after assignments and labs: 15.00 hours\n",
      "\n",
      "Recommended study time for Object Oriented Programming is 7.50 hours (450 mins)\n",
      "Recommended study time for Data Collection is 2.50 hours (150 mins)\n",
      "Recommended study time for Resampling and Regularization is 2.50 hours (150 mins)\n",
      "Recommended study time for Modelling and Simulation is 2.50 hours (150 mins)\n",
      "\n",
      "\n",
      "Enter one of the following options:\n",
      "1    : Use the deliverableviewer and see upcoming or all due dates\n",
      "2    : Use the timemanagercalc and get study time recommendations\n",
      "x    : Quit the session\n"
     ]
    },
    {
     "name": "stdin",
     "output_type": "stream",
     "text": [
      " x\n"
     ]
    },
    {
     "name": "stdout",
     "output_type": "stream",
     "text": [
      "\n",
      "Your MDSTimeManger session is over. Have a good day :)\n"
     ]
    }
   ],
   "source": [
    "m.execute()"
   ]
  },
  {
   "cell_type": "code",
   "execution_count": null,
   "id": "e1f81605-f86e-442e-83d5-520447e70f5f",
   "metadata": {},
   "outputs": [],
   "source": []
  }
 ],
 "metadata": {
  "kernelspec": {
   "display_name": "Python 3 (ipykernel)",
   "language": "python",
   "name": "python3"
  },
  "language_info": {
   "codemirror_mode": {
    "name": "ipython",
    "version": 3
   },
   "file_extension": ".py",
   "mimetype": "text/x-python",
   "name": "python",
   "nbconvert_exporter": "python",
   "pygments_lexer": "ipython3",
   "version": "3.9.12"
  }
 },
 "nbformat": 4,
 "nbformat_minor": 5
}
