{
 "cells": [
  {
   "cell_type": "markdown",
   "id": "57b49ea5",
   "metadata": {},
   "source": [
    "## Importing modules"
   ]
  },
  {
   "cell_type": "code",
   "execution_count": 1,
   "id": "35c501dd",
   "metadata": {},
   "outputs": [],
   "source": [
    "import MDSTimeManager.setup.person as p\n",
    "import MDSTimeManager.setup.course as c\n",
    "import datetime\n",
    "import unittest"
   ]
  },
  {
   "cell_type": "markdown",
   "id": "02bdada2",
   "metadata": {},
   "source": [
    "## Creating objects from `person module`"
   ]
  },
  {
   "cell_type": "code",
   "execution_count": 2,
   "id": "def4e725",
   "metadata": {},
   "outputs": [],
   "source": [
    "# student1\n",
    "stud1 = p.Student(\"Vimaljeet Singh\", 25087913)\n",
    "# student2\n",
    "stud2 = p.Student(\"Alyssa Foote\", 13712508)\n",
    "# instructor1\n",
    "instr1 = p.Instructor(\"Khalad Hasan\",\"Wednesday: 12:30pm - 1:30pm\", \"Slack, Email, Appointment\")\n",
    "instr1.teaches = \"Data 541: Scripting and Reporting, Data 533: Object Oriented Programming\"\n",
    "# instructor2\n",
    "instr2 = p.Instructor(\"Emelie Gustaffson\",\"Tuesday: 12:30pm - 01:00pm\", \"Slack\")\n",
    "instr2.teaches = \"Data 543: Data Collection\"\n",
    "# instructor3\n",
    "instr3 = p.Instructor(\"Jeff Andrews\",\"Thursday: 3:30pm - 4:30pm\", \"Slack, Drop-in\")\n",
    "instr3.teaches = \"Data 570: Resampling and Regularization\"\n",
    "# instructor4\n",
    "instr4 = p.Instructor(\"Ladan Tazik\",\"Wednesday: 01:30pm - 2:00pm\", \"Slack, Email\")\n",
    "instr4.teaches = \"Data 581: Modelling and Simulation 2\""
   ]
  },
  {
   "cell_type": "markdown",
   "id": "6f12de75",
   "metadata": {},
   "source": [
    "## Testing attributes and methods of `person module`"
   ]
  },
  {
   "cell_type": "markdown",
   "id": "552a8bcf",
   "metadata": {},
   "source": [
    "## 1. Using getter and setter method to access and set student name"
   ]
  },
  {
   "cell_type": "code",
   "execution_count": 3,
   "id": "f394f8cd",
   "metadata": {},
   "outputs": [
    {
     "name": "stdout",
     "output_type": "stream",
     "text": [
      "Original name: Vimaljeet Singh\n",
      "New name: Justin Chan\n"
     ]
    }
   ],
   "source": [
    "print(f\"Original name: {stud1.name}\") # using getter method to access attribute name\n",
    "stud1.name = \"Justin Chan\" # using setter method to set attribute name\n",
    "print(f\"New name: {stud1.name}\") "
   ]
  },
  {
   "cell_type": "markdown",
   "id": "5dea2f75",
   "metadata": {},
   "source": [
    "## 2. Using getter abnd setter method to access and set student ID"
   ]
  },
  {
   "cell_type": "code",
   "execution_count": 4,
   "id": "ac6c3a21",
   "metadata": {},
   "outputs": [
    {
     "name": "stdout",
     "output_type": "stream",
     "text": [
      "Original sID: 13712508\n",
      "New sID: 13712508\n"
     ]
    }
   ],
   "source": [
    "print(f\"Original sID: {stud2.sID}\") # using getter method to access student ID\n",
    "stud1.sID = \"Justin Chan\" # using setter method to set student ID\n",
    "print(f\"New sID: {stud2.sID}\")"
   ]
  },
  {
   "cell_type": "markdown",
   "id": "becd132f",
   "metadata": {},
   "source": [
    "## 3. Using getter and setter method to access and set communication preference"
   ]
  },
  {
   "cell_type": "code",
   "execution_count": 5,
   "id": "d92c4b1e",
   "metadata": {},
   "outputs": [
    {
     "name": "stdout",
     "output_type": "stream",
     "text": [
      "Original communication preference: Slack\n",
      "New communication preference: Slack and Email\n"
     ]
    }
   ],
   "source": [
    "print(f\"Original communication preference: {instr2.comm}\") # using getter method to access communication preference\n",
    "instr2.comm = \"Slack and Email\"\n",
    "print(f\"New communication preference: {instr2.comm}\") # using setter method to set communication preference"
   ]
  },
  {
   "cell_type": "markdown",
   "id": "4f2a6be6",
   "metadata": {},
   "source": [
    "## 4. Using deleter method to delete the communication preference property\n",
    "### This is supposed to give error as we have deleted the property:"
   ]
  },
  {
   "cell_type": "code",
   "execution_count": 6,
   "id": "fdeca8f2",
   "metadata": {},
   "outputs": [
    {
     "ename": "AttributeError",
     "evalue": "'Instructor' object has no attribute '_Instructor__comm'",
     "output_type": "error",
     "traceback": [
      "\u001b[1;31m---------------------------------------------------------------------------\u001b[0m",
      "\u001b[1;31mAttributeError\u001b[0m                            Traceback (most recent call last)",
      "Input \u001b[1;32mIn [6]\u001b[0m, in \u001b[0;36m<cell line: 2>\u001b[1;34m()\u001b[0m\n\u001b[0;32m      1\u001b[0m \u001b[38;5;28;01mdel\u001b[39;00m instr2\u001b[38;5;241m.\u001b[39mcomm\n\u001b[1;32m----> 2\u001b[0m \u001b[38;5;28mprint\u001b[39m(\u001b[43minstr2\u001b[49m\u001b[38;5;241;43m.\u001b[39;49m\u001b[43mcomm\u001b[49m)\n",
      "File \u001b[1;32m~\\Data533\\MDS_TimeManager\\MDSTimeManager\\setup\\person.py:34\u001b[0m, in \u001b[0;36mInstructor.comm\u001b[1;34m(self)\u001b[0m\n\u001b[0;32m     32\u001b[0m \u001b[38;5;129m@property\u001b[39m\n\u001b[0;32m     33\u001b[0m \u001b[38;5;28;01mdef\u001b[39;00m \u001b[38;5;21mcomm\u001b[39m(\u001b[38;5;28mself\u001b[39m):\n\u001b[1;32m---> 34\u001b[0m     \u001b[38;5;28;01mreturn\u001b[39;00m \u001b[38;5;28;43mself\u001b[39;49m\u001b[38;5;241;43m.\u001b[39;49m\u001b[43m__comm\u001b[49m\n",
      "\u001b[1;31mAttributeError\u001b[0m: 'Instructor' object has no attribute '_Instructor__comm'"
     ]
    }
   ],
   "source": [
    "del instr2.comm\n",
    "print(instr2.comm) # using deleter method to delete the communication preference property"
   ]
  },
  {
   "cell_type": "markdown",
   "id": "ef718d2b",
   "metadata": {},
   "source": [
    "## 5. Using getter and setter method to access and set office hours"
   ]
  },
  {
   "cell_type": "code",
   "execution_count": 7,
   "id": "e24035ac",
   "metadata": {},
   "outputs": [
    {
     "name": "stdout",
     "output_type": "stream",
     "text": [
      "Original office hours: Wednesday: 01:30pm - 2:00pm\n",
      "New office hours: Tuesday: 12:30pm - 1:30pm\n"
     ]
    }
   ],
   "source": [
    "print(f\"Original office hours: {instr4.hours}\") # using getter method to access office hours\n",
    "instr4.hours = \"Tuesday: 12:30pm - 1:30pm\" # using setter method to set office hours\n",
    "print(f\"New office hours: {instr4.hours}\")"
   ]
  },
  {
   "cell_type": "markdown",
   "id": "7bd0b83c",
   "metadata": {},
   "source": [
    "## Creating objects from `course module`"
   ]
  },
  {
   "cell_type": "code",
   "execution_count": 8,
   "id": "0af70aa0",
   "metadata": {},
   "outputs": [],
   "source": [
    "# creating objects from course class\n",
    "\n",
    "Data533 = c.Course(\"Object Oriented Programming\",\"Khalad Hasan\",\"3\",1)\n",
    "Data533Project = c.Project(\"Data 533: Project- Time Manager\",\"12/22\", milestones=\"1 subpackage done\",repo=\"MyRepo.git\")\n",
    "\n",
    "# Course 2\n",
    "Data543 = c.Course(\"Data Collection\",\"Emelie Gustaffson\",\"3\",1)\n",
    "Data543Quiz1 = c.Quiz(\"Data543: Quiz 1\", \"12/5\", \"Complete\", \"Lecture 1 to Lecture 4\", \"MCQ, Short Answers and R programming\")\n",
    "Data543Quiz2 = c.Quiz(\"Data543: Quiz 2\", \"12/19\", \"Incomplete\", \"Lecture 5 to Lecture 8\", \"MCQ and R programming\")\n",
    "Data543Assignment1 = c.AssignLab(\"Data543: Assignment 1\", \"12/12\", \"Complete\", \"\", \"\", subloc=\"Canvas\" )\n",
    "Data543Assignment2 = c.AssignLab(\"Data543: Assignment 2\", \"12/16\",\"Incomplete\" , \"\", \"\", subloc=\"Canvas\" )\n",
    "\n",
    "# Course 3\n",
    "Data571 = c.Course(\"Resampling and Regularization\",\"Jeff Andrews\",\"3\",3)\n",
    "Data571Quiz1 = c.Quiz(\"Data571: Quiz 1\", \"12/7\", \"Complete\", \"Lecture 1 to Lecture 3\", \"MCQ and Short Answers\")\n",
    "Data571Quiz2 = c.Quiz(\"Data571: Quiz 2\", \"12/21\", \"Incomplete\", \"Lecture 4 to Lecture 6\", \"MCQ and Short Answers\")\n",
    "Data571Assignment1 = c.AssignLab(\"Data571: Assignment 1\", \"12/5\", \"Complete\", \"\",\"\",subloc=\"Canvas\" )\n",
    "Data571Assignment2 = c.AssignLab(\"Data571: Assignment 2\", \"12/19\", \"Incomplete\",\"\",\"\",subloc=\"Canvas\" )\n",
    "\n",
    "\n",
    "# Course 4\n",
    "Data581 = c.Course(\"Modelling and Simulation\",\"Ladan Tazik\",\"3\",1)\n",
    "Data581Quiz1 = c.Quiz(\"Data 581: Quiz 1\", \"12/6\", \"Complete\", \"Lecture 1 to Lecture 3\", \"MCQ and Short Answers\")\n",
    "Data581Quiz2 = c.Quiz(\"Data 581: Quiz 2\", \"12/20\", \"Incomplete\", \"Lecture 4 to Lecture 7\", \"MCQ and Short Answers\")\n",
    "Data581Lab1 = c.AssignLab(\"Data 581: Lab 1\", \"12/1\", \"Complete\", \"\",\"\",subloc=\"Canvas\" )\n",
    "Data581Lab2 = c.AssignLab(\"Data 581: Lab 2\", \"12/8\", \"Complete\", \"\",\"\",subloc=\"Canvas\" )\n",
    "Data581Lab3 = c.AssignLab(\"Data 581: Lab 3\", \"12/15\", \"Incomplete\", \"\",\"\",subloc=\"Canvas\" )"
   ]
  },
  {
   "cell_type": "markdown",
   "id": "9692048f",
   "metadata": {},
   "source": [
    "## Testing attributes and methods of `course module`"
   ]
  },
  {
   "cell_type": "markdown",
   "id": "02b0c6a1",
   "metadata": {},
   "source": [
    "## 1. Using getter and setter method to access and set Course name"
   ]
  },
  {
   "cell_type": "code",
   "execution_count": 9,
   "id": "891be31a",
   "metadata": {},
   "outputs": [
    {
     "name": "stdout",
     "output_type": "stream",
     "text": [
      "Original course name: Object Oriented Programming\n",
      "New course name: Java\n"
     ]
    }
   ],
   "source": [
    "print(f\"Original course name: {Data533.cname}\")\n",
    "Data533.cname = \"Java\"\n",
    "print(f\"New course name: {Data533.cname}\")"
   ]
  },
  {
   "cell_type": "markdown",
   "id": "59bd57c6",
   "metadata": {},
   "source": [
    "## 2. Using getter and setter method to access and set question type for Quiz object"
   ]
  },
  {
   "cell_type": "code",
   "execution_count": 10,
   "id": "7ad09333",
   "metadata": {},
   "outputs": [
    {
     "name": "stdout",
     "output_type": "stream",
     "text": [
      "Original Quiz name: MCQ and Short Answers\n",
      "New course name: Long answers only\n"
     ]
    }
   ],
   "source": [
    "print(f\"Original Quiz name: {Data581Quiz1.qtype}\")\n",
    "Data581Quiz1.qtype = \"Long answers only\"\n",
    "print(f\"New course name: {Data581Quiz1.qtype}\")"
   ]
  },
  {
   "cell_type": "markdown",
   "id": "2e45c620",
   "metadata": {},
   "source": [
    "## 3. Using getter and deleter method to access and delete due date for AssignLab object"
   ]
  },
  {
   "cell_type": "code",
   "execution_count": 11,
   "id": "7b9bf2ce",
   "metadata": {},
   "outputs": [
    {
     "name": "stdout",
     "output_type": "stream",
     "text": [
      "Original deliverable date: 12/5\n"
     ]
    }
   ],
   "source": [
    "print(f\"Original deliverable date: {Data571Assignment1.date}\")"
   ]
  },
  {
   "cell_type": "markdown",
   "id": "6a2c1692",
   "metadata": {},
   "source": [
    "### This is supposed to give error as we have deleted the property:"
   ]
  },
  {
   "cell_type": "code",
   "execution_count": 12,
   "id": "b8ee29d2",
   "metadata": {},
   "outputs": [
    {
     "ename": "AttributeError",
     "evalue": "'AssignLab' object has no attribute '_AssignLab__date'",
     "output_type": "error",
     "traceback": [
      "\u001b[1;31m---------------------------------------------------------------------------\u001b[0m",
      "\u001b[1;31mAttributeError\u001b[0m                            Traceback (most recent call last)",
      "Input \u001b[1;32mIn [12]\u001b[0m, in \u001b[0;36m<cell line: 2>\u001b[1;34m()\u001b[0m\n\u001b[0;32m      1\u001b[0m \u001b[38;5;28;01mdel\u001b[39;00m Data571Assignment1\u001b[38;5;241m.\u001b[39mdate\n\u001b[1;32m----> 2\u001b[0m \u001b[38;5;28mprint\u001b[39m(\u001b[38;5;124mf\u001b[39m\u001b[38;5;124m\"\u001b[39m\u001b[38;5;124mOriginal deliverable date: \u001b[39m\u001b[38;5;132;01m{\u001b[39;00mData571Assignment1\u001b[38;5;241m.\u001b[39mdate\u001b[38;5;132;01m}\u001b[39;00m\u001b[38;5;124m\"\u001b[39m)\n",
      "File \u001b[1;32m~\\Data533\\MDS_TimeManager\\MDSTimeManager\\setup\\course.py:158\u001b[0m, in \u001b[0;36mAssignLab.date\u001b[1;34m(self)\u001b[0m\n\u001b[0;32m    156\u001b[0m \u001b[38;5;129m@property\u001b[39m\n\u001b[0;32m    157\u001b[0m \u001b[38;5;28;01mdef\u001b[39;00m \u001b[38;5;21mdate\u001b[39m(\u001b[38;5;28mself\u001b[39m):    \n\u001b[1;32m--> 158\u001b[0m     \u001b[38;5;28;01mreturn\u001b[39;00m \u001b[38;5;28;43mself\u001b[39;49m\u001b[38;5;241;43m.\u001b[39;49m\u001b[43m__date\u001b[49m\n\u001b[0;32m    160\u001b[0m     \u001b[38;5;28mself\u001b[39m\u001b[38;5;241m.\u001b[39m__dur \u001b[38;5;241m=\u001b[39m dur\n\u001b[0;32m    161\u001b[0m     \u001b[38;5;28mself\u001b[39m\u001b[38;5;241m.\u001b[39m__durleft \u001b[38;5;241m=\u001b[39m durleft\n",
      "\u001b[1;31mAttributeError\u001b[0m: 'AssignLab' object has no attribute '_AssignLab__date'"
     ]
    }
   ],
   "source": [
    "del Data571Assignment1.date\n",
    "print(f\"Original deliverable date: {Data571Assignment1.date}\")"
   ]
  },
  {
   "cell_type": "markdown",
   "id": "5b4a9a1f",
   "metadata": {},
   "source": [
    "## 4. Using getter and setter method to access and set Course Instructor"
   ]
  },
  {
   "cell_type": "code",
   "execution_count": 13,
   "id": "181d9ecf",
   "metadata": {},
   "outputs": [
    {
     "name": "stdout",
     "output_type": "stream",
     "text": [
      "Original Instructor: Ladan Tazik\n",
      "New Instructor: John Braun\n"
     ]
    }
   ],
   "source": [
    "print(f\"Original Instructor: {Data581.instructor}\")\n",
    "Data581.instructor = \"John Braun\"\n",
    "print(f\"New Instructor: {Data581.instructor}\")"
   ]
  },
  {
   "cell_type": "markdown",
   "id": "b333b0b6",
   "metadata": {},
   "source": [
    "## 5. Using getter and setter method to access and set Project Milestones"
   ]
  },
  {
   "cell_type": "code",
   "execution_count": null,
   "id": "3b3de0d3",
   "metadata": {},
   "outputs": [],
   "source": [
    "print(f\"Original milestone: {Data533Project.milestones}\")\n",
    "Data533Project.milestones = \"Both subpackages done\"\n",
    "print(f\"New milestone: {Data533Project.milestones}\")"
   ]
  }
 ],
 "metadata": {
  "kernelspec": {
   "display_name": "Python 3 (ipykernel)",
   "language": "python",
   "name": "python3"
  },
  "language_info": {
   "codemirror_mode": {
    "name": "ipython",
    "version": 3
   },
   "file_extension": ".py",
   "mimetype": "text/x-python",
   "name": "python",
   "nbconvert_exporter": "python",
   "pygments_lexer": "ipython3",
   "version": "3.9.12"
  }
 },
 "nbformat": 4,
 "nbformat_minor": 5
}
