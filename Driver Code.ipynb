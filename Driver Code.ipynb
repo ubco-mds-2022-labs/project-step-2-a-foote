{
 "cells": [
  {
   "cell_type": "markdown",
   "id": "b7375675",
   "metadata": {},
   "source": [
    "# Driver code"
   ]
  },
  {
   "cell_type": "code",
   "execution_count": 1,
   "id": "0c484e56",
   "metadata": {},
   "outputs": [
    {
     "name": "stdout",
     "output_type": "stream",
     "text": [
      "Welcome to the MDSTimeManager! \n",
      "\n",
      "Please note:\n",
      "Presently this tool is strictly for use by MDS Okanagan students in Block 3 of 2022. \n",
      "Future versions of this package will expand for use in all blocks for both MDS Vancouver and Okanagan students.\n",
      "\n",
      "\n",
      "Enter one of the following options:\n",
      "1    : Use the deliverableviewer and see upcoming or all due dates\n",
      "2    : Use the timemanagercalc and get study time recommendations\n",
      "x    : Quit the session\n",
      "1\n",
      "\n",
      "\n",
      "\n",
      "\n",
      "Enter one of the following options:\n",
      "a    : View deliverables due in the next 7 days\n",
      "b    : View all deliverables\n",
      "b\n",
      "\n",
      "\n",
      "Data533: Quiz,12/20\n",
      "Data533: Lab 1,12/05\n",
      "Data 533: Project- Time Manager,12/22\n",
      "Data543: Quiz 1,12/5\n",
      "Data543: Quiz 2,12/19\n",
      "Data543: Assignment 1,12/12\n",
      "Data543: Assignment 2,12/16\n",
      "Data571: Quiz 1,12/7\n",
      "Data571: Quiz 2,12/21\n",
      "Data571: Assignment 1,12/5\n",
      "Data571: Assignment 2,12/19\n",
      "Data 581: Quiz 1,12/6\n",
      "Data 581: Quiz 2,12/20\n",
      "Data 581: Lab 1,12/1\n",
      "Data 581: Lab 2,12/8\n",
      "Data 581: Lab 3,12/15\n",
      "\n",
      "\n",
      "Enter one of the following options:\n",
      "1    : Use the deliverableviewer and see upcoming or all due dates\n",
      "2    : Use the timemanagercalc and get study time recommendations\n",
      "x    : Quit the session\n",
      "x\n",
      "\n",
      "Your MDSTimeManger session is over. Have a good day :)\n"
     ]
    }
   ],
   "source": [
    "from MDSTimeManager.system.main import execute\n",
    "\n",
    "execute()"
   ]
  }
 ],
 "metadata": {
  "kernelspec": {
   "display_name": "Python 3 (ipykernel)",
   "language": "python",
   "name": "python3"
  },
  "language_info": {
   "codemirror_mode": {
    "name": "ipython",
    "version": 3
   },
   "file_extension": ".py",
   "mimetype": "text/x-python",
   "name": "python",
   "nbconvert_exporter": "python",
   "pygments_lexer": "ipython3",
   "version": "3.9.12"
  }
 },
 "nbformat": 4,
 "nbformat_minor": 5
}
